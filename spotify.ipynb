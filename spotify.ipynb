{
 "cells": [
  {
   "cell_type": "markdown",
   "metadata": {},
   "source": [
    "# First steps in Spotify Top50\n",
    "---\n",
    "Import necessary libraries for data analysis and plotting."
   ]
  },
  {
   "cell_type": "code",
   "execution_count": 1,
   "metadata": {},
   "outputs": [],
   "source": [
    "import pandas as pd\n",
    "from custom_func import plot_scatter_with_stats, correl_heat_map"
   ]
  },
  {
   "cell_type": "markdown",
   "metadata": {},
   "source": [
    "---\n",
    "\n",
    "Read dataset from csv file located in the working directory, and set the included index column as index for the DataFrame."
   ]
  },
  {
   "cell_type": "code",
   "execution_count": 2,
   "metadata": {},
   "outputs": [],
   "source": [
    "data = pd.read_csv(\"spotifytoptracks.csv\", index_col=0)\n",
    "safety_copy = data.copy(deep=True)"
   ]
  },
  {
   "cell_type": "markdown",
   "metadata": {},
   "source": [
    "---\n",
    "\n",
    "Have a rough look at the dataset."
   ]
  },
  {
   "cell_type": "code",
   "execution_count": 3,
   "metadata": {},
   "outputs": [
    {
     "data": {
      "text/html": [
       "<div>\n",
       "<style scoped>\n",
       "    .dataframe tbody tr th:only-of-type {\n",
       "        vertical-align: middle;\n",
       "    }\n",
       "\n",
       "    .dataframe tbody tr th {\n",
       "        vertical-align: top;\n",
       "    }\n",
       "\n",
       "    .dataframe thead th {\n",
       "        text-align: right;\n",
       "    }\n",
       "</style>\n",
       "<table border=\"1\" class=\"dataframe\">\n",
       "  <thead>\n",
       "    <tr style=\"text-align: right;\">\n",
       "      <th></th>\n",
       "      <th>artist</th>\n",
       "      <th>album</th>\n",
       "      <th>track_name</th>\n",
       "      <th>track_id</th>\n",
       "      <th>energy</th>\n",
       "      <th>danceability</th>\n",
       "      <th>key</th>\n",
       "      <th>loudness</th>\n",
       "      <th>acousticness</th>\n",
       "      <th>speechiness</th>\n",
       "      <th>instrumentalness</th>\n",
       "      <th>liveness</th>\n",
       "      <th>valence</th>\n",
       "      <th>tempo</th>\n",
       "      <th>duration_ms</th>\n",
       "      <th>genre</th>\n",
       "    </tr>\n",
       "  </thead>\n",
       "  <tbody>\n",
       "    <tr>\n",
       "      <th>0</th>\n",
       "      <td>The Weeknd</td>\n",
       "      <td>After Hours</td>\n",
       "      <td>Blinding Lights</td>\n",
       "      <td>0VjIjW4GlUZAMYd2vXMi3b</td>\n",
       "      <td>0.730</td>\n",
       "      <td>0.514</td>\n",
       "      <td>1</td>\n",
       "      <td>-5.934</td>\n",
       "      <td>0.00146</td>\n",
       "      <td>0.0598</td>\n",
       "      <td>0.000095</td>\n",
       "      <td>0.0897</td>\n",
       "      <td>0.334</td>\n",
       "      <td>171.005</td>\n",
       "      <td>200040</td>\n",
       "      <td>R&amp;B/Soul</td>\n",
       "    </tr>\n",
       "    <tr>\n",
       "      <th>1</th>\n",
       "      <td>Tones And I</td>\n",
       "      <td>Dance Monkey</td>\n",
       "      <td>Dance Monkey</td>\n",
       "      <td>1rgnBhdG2JDFTbYkYRZAku</td>\n",
       "      <td>0.593</td>\n",
       "      <td>0.825</td>\n",
       "      <td>6</td>\n",
       "      <td>-6.401</td>\n",
       "      <td>0.68800</td>\n",
       "      <td>0.0988</td>\n",
       "      <td>0.000161</td>\n",
       "      <td>0.1700</td>\n",
       "      <td>0.540</td>\n",
       "      <td>98.078</td>\n",
       "      <td>209755</td>\n",
       "      <td>Alternative/Indie</td>\n",
       "    </tr>\n",
       "    <tr>\n",
       "      <th>2</th>\n",
       "      <td>Roddy Ricch</td>\n",
       "      <td>Please Excuse Me For Being Antisocial</td>\n",
       "      <td>The Box</td>\n",
       "      <td>0nbXyq5TXYPCO7pr3N8S4I</td>\n",
       "      <td>0.586</td>\n",
       "      <td>0.896</td>\n",
       "      <td>10</td>\n",
       "      <td>-6.687</td>\n",
       "      <td>0.10400</td>\n",
       "      <td>0.0559</td>\n",
       "      <td>0.000000</td>\n",
       "      <td>0.7900</td>\n",
       "      <td>0.642</td>\n",
       "      <td>116.971</td>\n",
       "      <td>196653</td>\n",
       "      <td>Hip-Hop/Rap</td>\n",
       "    </tr>\n",
       "    <tr>\n",
       "      <th>3</th>\n",
       "      <td>SAINt JHN</td>\n",
       "      <td>Roses (Imanbek Remix)</td>\n",
       "      <td>Roses - Imanbek Remix</td>\n",
       "      <td>2Wo6QQD1KMDWeFkkjLqwx5</td>\n",
       "      <td>0.721</td>\n",
       "      <td>0.785</td>\n",
       "      <td>8</td>\n",
       "      <td>-5.457</td>\n",
       "      <td>0.01490</td>\n",
       "      <td>0.0506</td>\n",
       "      <td>0.004320</td>\n",
       "      <td>0.2850</td>\n",
       "      <td>0.894</td>\n",
       "      <td>121.962</td>\n",
       "      <td>176219</td>\n",
       "      <td>Dance/Electronic</td>\n",
       "    </tr>\n",
       "    <tr>\n",
       "      <th>4</th>\n",
       "      <td>Dua Lipa</td>\n",
       "      <td>Future Nostalgia</td>\n",
       "      <td>Don't Start Now</td>\n",
       "      <td>3PfIrDoz19wz7qK7tYeu62</td>\n",
       "      <td>0.793</td>\n",
       "      <td>0.793</td>\n",
       "      <td>11</td>\n",
       "      <td>-4.521</td>\n",
       "      <td>0.01230</td>\n",
       "      <td>0.0830</td>\n",
       "      <td>0.000000</td>\n",
       "      <td>0.0951</td>\n",
       "      <td>0.679</td>\n",
       "      <td>123.950</td>\n",
       "      <td>183290</td>\n",
       "      <td>Nu-disco</td>\n",
       "    </tr>\n",
       "  </tbody>\n",
       "</table>\n",
       "</div>"
      ],
      "text/plain": [
       "        artist                                  album             track_name  \\\n",
       "0   The Weeknd                            After Hours        Blinding Lights   \n",
       "1  Tones And I                           Dance Monkey           Dance Monkey   \n",
       "2  Roddy Ricch  Please Excuse Me For Being Antisocial                The Box   \n",
       "3    SAINt JHN                  Roses (Imanbek Remix)  Roses - Imanbek Remix   \n",
       "4     Dua Lipa                       Future Nostalgia        Don't Start Now   \n",
       "\n",
       "                 track_id  energy  danceability  key  loudness  acousticness  \\\n",
       "0  0VjIjW4GlUZAMYd2vXMi3b   0.730         0.514    1    -5.934       0.00146   \n",
       "1  1rgnBhdG2JDFTbYkYRZAku   0.593         0.825    6    -6.401       0.68800   \n",
       "2  0nbXyq5TXYPCO7pr3N8S4I   0.586         0.896   10    -6.687       0.10400   \n",
       "3  2Wo6QQD1KMDWeFkkjLqwx5   0.721         0.785    8    -5.457       0.01490   \n",
       "4  3PfIrDoz19wz7qK7tYeu62   0.793         0.793   11    -4.521       0.01230   \n",
       "\n",
       "   speechiness  instrumentalness  liveness  valence    tempo  duration_ms  \\\n",
       "0       0.0598          0.000095    0.0897    0.334  171.005       200040   \n",
       "1       0.0988          0.000161    0.1700    0.540   98.078       209755   \n",
       "2       0.0559          0.000000    0.7900    0.642  116.971       196653   \n",
       "3       0.0506          0.004320    0.2850    0.894  121.962       176219   \n",
       "4       0.0830          0.000000    0.0951    0.679  123.950       183290   \n",
       "\n",
       "               genre  \n",
       "0           R&B/Soul  \n",
       "1  Alternative/Indie  \n",
       "2        Hip-Hop/Rap  \n",
       "3   Dance/Electronic  \n",
       "4           Nu-disco  "
      ]
     },
     "execution_count": 3,
     "metadata": {},
     "output_type": "execute_result"
    }
   ],
   "source": [
    "data.head()"
   ]
  },
  {
   "cell_type": "markdown",
   "metadata": {},
   "source": [
    "---\n",
    "\n",
    "## Data cleaning\n",
    "\n",
    "### Check for missing values."
   ]
  },
  {
   "cell_type": "code",
   "execution_count": 4,
   "metadata": {},
   "outputs": [
    {
     "data": {
      "text/plain": [
       "np.False_"
      ]
     },
     "execution_count": 4,
     "metadata": {},
     "output_type": "execute_result"
    }
   ],
   "source": [
    "data.isna().any(axis = None)"
   ]
  },
  {
   "cell_type": "markdown",
   "metadata": {},
   "source": [
    "None of the Data in the DataFrame is null.\n",
    "\n",
    "I decided not to drop any of the cells in case of missing values, because this is a very limited dataset with emphasis on the amount of rows, as it is a top list. \n",
    "\n",
    "If there were empty cells in the DataFrame:"
   ]
  },
  {
   "cell_type": "code",
   "execution_count": 5,
   "metadata": {},
   "outputs": [],
   "source": [
    "data.fillna(\"N/A\", inplace=True)"
   ]
  },
  {
   "cell_type": "markdown",
   "metadata": {},
   "source": [
    "---\n",
    "\n",
    "### Check for duplicates in the DataFrame."
   ]
  },
  {
   "cell_type": "code",
   "execution_count": 6,
   "metadata": {},
   "outputs": [
    {
     "data": {
      "text/plain": [
       "np.False_"
      ]
     },
     "execution_count": 6,
     "metadata": {},
     "output_type": "execute_result"
    }
   ],
   "source": [
    "data.duplicated().any(axis=None)"
   ]
  },
  {
   "cell_type": "markdown",
   "metadata": {},
   "source": [
    "No duplicate in the data. \n",
    "\n",
    "If there were any duplicates:"
   ]
  },
  {
   "cell_type": "code",
   "execution_count": 7,
   "metadata": {},
   "outputs": [],
   "source": [
    "data.drop_duplicates(inplace=True)"
   ]
  },
  {
   "cell_type": "markdown",
   "metadata": {},
   "source": [
    "---\n",
    "\n",
    "### Detecting outliers by testing z-score:\n",
    "\n",
    "The outlier threshold value is chosen as 3.0, meaning that 99.7% of the data points lie between +/- 3 standard deviation from the mean."
   ]
  },
  {
   "cell_type": "markdown",
   "metadata": {},
   "source": [
    "<img src=\"bell.jpg\" height=\"250\">"
   ]
  },
  {
   "cell_type": "markdown",
   "metadata": {},
   "source": [
    "Filtering the numeric features into a new DataFrame, as it is only possible for these to calculate the numeric statistical characteristics. \n"
   ]
  },
  {
   "cell_type": "code",
   "execution_count": 8,
   "metadata": {},
   "outputs": [],
   "source": [
    "num_cols = data.select_dtypes('number').columns\n",
    "numeric_data = data.loc[:, num_cols]\n"
   ]
  },
  {
   "cell_type": "markdown",
   "metadata": {},
   "source": [
    "Calculating the limit for each feature and checking if the difference of the values from the mean is within the tolerance of 3 standard deviations. \n",
    "\n",
    "The result is a bool DataFrame of the same structure as the filtered numerical data."
   ]
  },
  {
   "cell_type": "code",
   "execution_count": 9,
   "metadata": {},
   "outputs": [],
   "source": [
    "lim = abs((numeric_data - numeric_data.mean())/numeric_data.std(ddof = 0)) <3"
   ]
  },
  {
   "cell_type": "markdown",
   "metadata": {},
   "source": [
    "Filtering the dataset to check if the row has any outliers.\n",
    "\n",
    "If it does, it gets indicated in the bool Series called filter, which then filters the whole, original dataset to retrieve the records that have outliers."
   ]
  },
  {
   "cell_type": "code",
   "execution_count": 10,
   "metadata": {},
   "outputs": [
    {
     "data": {
      "text/html": [
       "<div>\n",
       "<style scoped>\n",
       "    .dataframe tbody tr th:only-of-type {\n",
       "        vertical-align: middle;\n",
       "    }\n",
       "\n",
       "    .dataframe tbody tr th {\n",
       "        vertical-align: top;\n",
       "    }\n",
       "\n",
       "    .dataframe thead th {\n",
       "        text-align: right;\n",
       "    }\n",
       "</style>\n",
       "<table border=\"1\" class=\"dataframe\">\n",
       "  <thead>\n",
       "    <tr style=\"text-align: right;\">\n",
       "      <th></th>\n",
       "      <th>artist</th>\n",
       "      <th>album</th>\n",
       "      <th>track_name</th>\n",
       "      <th>track_id</th>\n",
       "      <th>energy</th>\n",
       "      <th>danceability</th>\n",
       "      <th>key</th>\n",
       "      <th>loudness</th>\n",
       "      <th>acousticness</th>\n",
       "      <th>speechiness</th>\n",
       "      <th>instrumentalness</th>\n",
       "      <th>liveness</th>\n",
       "      <th>valence</th>\n",
       "      <th>tempo</th>\n",
       "      <th>duration_ms</th>\n",
       "      <th>genre</th>\n",
       "    </tr>\n",
       "  </thead>\n",
       "  <tbody>\n",
       "    <tr>\n",
       "      <th>2</th>\n",
       "      <td>Roddy Ricch</td>\n",
       "      <td>Please Excuse Me For Being Antisocial</td>\n",
       "      <td>The Box</td>\n",
       "      <td>0nbXyq5TXYPCO7pr3N8S4I</td>\n",
       "      <td>0.586</td>\n",
       "      <td>0.896</td>\n",
       "      <td>10</td>\n",
       "      <td>-6.687</td>\n",
       "      <td>0.10400</td>\n",
       "      <td>0.0559</td>\n",
       "      <td>0.00000</td>\n",
       "      <td>0.790</td>\n",
       "      <td>0.642</td>\n",
       "      <td>116.971</td>\n",
       "      <td>196653</td>\n",
       "      <td>Hip-Hop/Rap</td>\n",
       "    </tr>\n",
       "    <tr>\n",
       "      <th>19</th>\n",
       "      <td>Future</td>\n",
       "      <td>High Off Life</td>\n",
       "      <td>Life Is Good (feat. Drake)</td>\n",
       "      <td>1K5KBOgreBi5fkEHvg5ap3</td>\n",
       "      <td>0.574</td>\n",
       "      <td>0.795</td>\n",
       "      <td>2</td>\n",
       "      <td>-6.903</td>\n",
       "      <td>0.06700</td>\n",
       "      <td>0.4870</td>\n",
       "      <td>0.00000</td>\n",
       "      <td>0.150</td>\n",
       "      <td>0.537</td>\n",
       "      <td>142.053</td>\n",
       "      <td>237918</td>\n",
       "      <td>Hip-Hop/Rap</td>\n",
       "    </tr>\n",
       "    <tr>\n",
       "      <th>24</th>\n",
       "      <td>Billie Eilish</td>\n",
       "      <td>everything i wanted</td>\n",
       "      <td>everything i wanted</td>\n",
       "      <td>3ZCTVFBt2Brf31RLEnCkWJ</td>\n",
       "      <td>0.225</td>\n",
       "      <td>0.704</td>\n",
       "      <td>6</td>\n",
       "      <td>-14.454</td>\n",
       "      <td>0.90200</td>\n",
       "      <td>0.0994</td>\n",
       "      <td>0.65700</td>\n",
       "      <td>0.106</td>\n",
       "      <td>0.243</td>\n",
       "      <td>120.006</td>\n",
       "      <td>245426</td>\n",
       "      <td>Pop</td>\n",
       "    </tr>\n",
       "    <tr>\n",
       "      <th>41</th>\n",
       "      <td>Black Eyed Peas</td>\n",
       "      <td>Translation</td>\n",
       "      <td>RITMO (Bad Boys For Life)</td>\n",
       "      <td>4NCsrTzgVfsDo8nWyP8PPc</td>\n",
       "      <td>0.704</td>\n",
       "      <td>0.723</td>\n",
       "      <td>10</td>\n",
       "      <td>-7.088</td>\n",
       "      <td>0.02590</td>\n",
       "      <td>0.0571</td>\n",
       "      <td>0.00109</td>\n",
       "      <td>0.792</td>\n",
       "      <td>0.684</td>\n",
       "      <td>105.095</td>\n",
       "      <td>214935</td>\n",
       "      <td>Pop</td>\n",
       "    </tr>\n",
       "    <tr>\n",
       "      <th>49</th>\n",
       "      <td>Travis Scott</td>\n",
       "      <td>ASTROWORLD</td>\n",
       "      <td>SICKO MODE</td>\n",
       "      <td>2xLMifQCjDGFmkHkpNLD9h</td>\n",
       "      <td>0.730</td>\n",
       "      <td>0.834</td>\n",
       "      <td>8</td>\n",
       "      <td>-3.714</td>\n",
       "      <td>0.00513</td>\n",
       "      <td>0.2220</td>\n",
       "      <td>0.00000</td>\n",
       "      <td>0.124</td>\n",
       "      <td>0.446</td>\n",
       "      <td>155.008</td>\n",
       "      <td>312820</td>\n",
       "      <td>Hip-Hop/Rap</td>\n",
       "    </tr>\n",
       "  </tbody>\n",
       "</table>\n",
       "</div>"
      ],
      "text/plain": [
       "             artist                                  album  \\\n",
       "2       Roddy Ricch  Please Excuse Me For Being Antisocial   \n",
       "19           Future                          High Off Life   \n",
       "24    Billie Eilish                    everything i wanted   \n",
       "41  Black Eyed Peas                            Translation   \n",
       "49     Travis Scott                             ASTROWORLD   \n",
       "\n",
       "                    track_name                track_id  energy  danceability  \\\n",
       "2                      The Box  0nbXyq5TXYPCO7pr3N8S4I   0.586         0.896   \n",
       "19  Life Is Good (feat. Drake)  1K5KBOgreBi5fkEHvg5ap3   0.574         0.795   \n",
       "24         everything i wanted  3ZCTVFBt2Brf31RLEnCkWJ   0.225         0.704   \n",
       "41   RITMO (Bad Boys For Life)  4NCsrTzgVfsDo8nWyP8PPc   0.704         0.723   \n",
       "49                  SICKO MODE  2xLMifQCjDGFmkHkpNLD9h   0.730         0.834   \n",
       "\n",
       "    key  loudness  acousticness  speechiness  instrumentalness  liveness  \\\n",
       "2    10    -6.687       0.10400       0.0559           0.00000     0.790   \n",
       "19    2    -6.903       0.06700       0.4870           0.00000     0.150   \n",
       "24    6   -14.454       0.90200       0.0994           0.65700     0.106   \n",
       "41   10    -7.088       0.02590       0.0571           0.00109     0.792   \n",
       "49    8    -3.714       0.00513       0.2220           0.00000     0.124   \n",
       "\n",
       "    valence    tempo  duration_ms        genre  \n",
       "2     0.642  116.971       196653  Hip-Hop/Rap  \n",
       "19    0.537  142.053       237918  Hip-Hop/Rap  \n",
       "24    0.243  120.006       245426          Pop  \n",
       "41    0.684  105.095       214935          Pop  \n",
       "49    0.446  155.008       312820  Hip-Hop/Rap  "
      ]
     },
     "execution_count": 10,
     "metadata": {},
     "output_type": "execute_result"
    }
   ],
   "source": [
    "filter = lim.all(axis = 1)\n",
    "outlier_records = data.copy()[~filter]\n",
    "outlier_records"
   ]
  },
  {
   "cell_type": "markdown",
   "metadata": {},
   "source": [
    "If we want to check which values are outliers, we can use the lim bool DataFrame to filter.\n",
    "\n",
    "This way we can display the index and the feature where the value is outside of the tolerance.\n",
    "\n",
    "\n",
    "What to do with this information is up to the requirements."
   ]
  },
  {
   "cell_type": "code",
   "execution_count": 11,
   "metadata": {},
   "outputs": [],
   "source": [
    "outlier_items = numeric_data[~lim]\n",
    "outlier_items = outlier_items.dropna(how='all').dropna(axis = 1, how='all')"
   ]
  },
  {
   "cell_type": "markdown",
   "metadata": {},
   "source": [
    "Creating a stack of outlier items and extracting the index, value pairs to display in the output in text form."
   ]
  },
  {
   "cell_type": "code",
   "execution_count": 12,
   "metadata": {},
   "outputs": [
    {
     "data": {
      "text/html": [
       "<div>\n",
       "<style scoped>\n",
       "    .dataframe tbody tr th:only-of-type {\n",
       "        vertical-align: middle;\n",
       "    }\n",
       "\n",
       "    .dataframe tbody tr th {\n",
       "        vertical-align: top;\n",
       "    }\n",
       "\n",
       "    .dataframe thead th {\n",
       "        text-align: right;\n",
       "    }\n",
       "</style>\n",
       "<table border=\"1\" class=\"dataframe\">\n",
       "  <thead>\n",
       "    <tr style=\"text-align: right;\">\n",
       "      <th></th>\n",
       "      <th>at_index</th>\n",
       "      <th>value</th>\n",
       "    </tr>\n",
       "    <tr>\n",
       "      <th>feature</th>\n",
       "      <th></th>\n",
       "      <th></th>\n",
       "    </tr>\n",
       "  </thead>\n",
       "  <tbody>\n",
       "    <tr>\n",
       "      <th>duration_ms</th>\n",
       "      <td>49</td>\n",
       "      <td>312820.000</td>\n",
       "    </tr>\n",
       "    <tr>\n",
       "      <th>instrumentalness</th>\n",
       "      <td>24</td>\n",
       "      <td>0.657</td>\n",
       "    </tr>\n",
       "    <tr>\n",
       "      <th>liveness</th>\n",
       "      <td>2</td>\n",
       "      <td>0.790</td>\n",
       "    </tr>\n",
       "    <tr>\n",
       "      <th>liveness</th>\n",
       "      <td>41</td>\n",
       "      <td>0.792</td>\n",
       "    </tr>\n",
       "    <tr>\n",
       "      <th>loudness</th>\n",
       "      <td>24</td>\n",
       "      <td>-14.454</td>\n",
       "    </tr>\n",
       "    <tr>\n",
       "      <th>speechiness</th>\n",
       "      <td>19</td>\n",
       "      <td>0.487</td>\n",
       "    </tr>\n",
       "  </tbody>\n",
       "</table>\n",
       "</div>"
      ],
      "text/plain": [
       "                  at_index       value\n",
       "feature                               \n",
       "duration_ms             49  312820.000\n",
       "instrumentalness        24       0.657\n",
       "liveness                 2       0.790\n",
       "liveness                41       0.792\n",
       "loudness                24     -14.454\n",
       "speechiness             19       0.487"
      ]
     },
     "execution_count": 12,
     "metadata": {},
     "output_type": "execute_result"
    }
   ],
   "source": [
    "from operator import le\n",
    "\n",
    "\n",
    "outlier_stack = outlier_items.stack().reset_index().set_index(\"level_1\")\n",
    "outlier_df=pd.DataFrame(outlier_stack).rename(columns={\"level_0\": \"at_index\", 0: \"value\"}).rename_axis(\"feature\")\n",
    "outlier_df.sort_index()"
   ]
  },
  {
   "cell_type": "markdown",
   "metadata": {},
   "source": [
    "Creating scatter plots for visualization of the values, the outliers and the tolerance zone for each feature that has outliers.\n",
    "\n",
    "Also printing the outlier values in sentences for better understanding with the z-score. \n",
    "\n",
    "$$\n",
    "z = \\frac{data-mean}{standard\\ deviation}\\\n",
    "$$\n",
    "\n",
    "The z-score for the outliers will be bigger than 3, because that is the conventional limit that I worked with (meaning: 99,7% of the data is within tolerance). \n",
    "\n",
    "The user can get a sense how much of a deviation there is based on the score. "
   ]
  },
  {
   "cell_type": "code",
   "execution_count": 14,
   "metadata": {},
   "outputs": [
    {
     "name": "stdout",
     "output_type": "stream",
     "text": [
      "Outlier in feature 'loudness' at index 24: -14.454 (z-score: -3.5017)\n"
     ]
    },
    {
     "data": {
      "image/png": "[encoded data removed]",
      "text/plain": [
       "<Figure size 1000x600 with 1 Axes>"
      ]
     },
     "metadata": {},
     "output_type": "display_data"
    },
    {
     "name": "stdout",
     "output_type": "stream",
     "text": [
      "Outlier in feature 'speechiness' at index 19: 0.487 (z-score: 3.1056)\n"
     ]
    },
    {
     "data": {
      "image/png": "[encoded data removed]",
      "text/plain": [
       "<Figure size 1000x600 with 1 Axes>"
      ]
     },
     "metadata": {},
     "output_type": "display_data"
    },
    {
     "name": "stdout",
     "output_type": "stream",
     "text": [
      "Outlier in feature 'instrumentalness' at index 24: 0.657 (z-score: 6.7970)\n"
     ]
    },
    {
     "data": {
      "image/png": "[encoded data removed]",
      "text/plain": [
       "<Figure size 1000x600 with 1 Axes>"
      ]
     },
     "metadata": {},
     "output_type": "display_data"
    },
    {
     "name": "stdout",
     "output_type": "stream",
     "text": [
      "Outlier in feature 'liveness' at index 2: 0.79 (z-score: 3.3602)\n",
      "Outlier in feature 'liveness' at index 41: 0.792 (z-score: 3.3715)\n"
     ]
    },
    {
     "data": {
      "image/png": "[encoded data removed]",
      "text/plain": [
       "<Figure size 1000x600 with 1 Axes>"
      ]
     },
     "metadata": {},
     "output_type": "display_data"
    },
    {
     "name": "stdout",
     "output_type": "stream",
     "text": [
      "Outlier in feature 'duration_ms' at index 49: 312820.0 (z-score: 3.3199)\n"
     ]
    },
    {
     "data": {
      "image/png": "[encoded data removed]",
      "text/plain": [
       "<Figure size 1000x600 with 1 Axes>"
      ]
     },
     "metadata": {},
     "output_type": "display_data"
    }
   ],
   "source": [
    "columns_to_keep = ~lim.all()\n",
    "\n",
    "to_plot = data[num_cols].loc[:, columns_to_keep]\n",
    "    \n",
    "for feature in to_plot:\n",
    "    plot_scatter_with_stats(to_plot, outlier_df, feature)"
   ]
  },
  {
   "cell_type": "markdown",
   "metadata": {},
   "source": [
    "The outliers here can all be considered \"fun facts\" as the data is valid, it is just a statistical fact, that they are outliers, and do not need to be removed.\n",
    "\n",
    "It could also be an explanation, that the data set is small, and in case of a large data set they might not even be outliers.\n",
    "\n",
    "For example we could detect an extremely short song that was maybe not completely uploaded or is just a demo using this method."
   ]
  },
  {
   "cell_type": "markdown",
   "metadata": {},
   "source": [
    "---\n",
    "\n",
    "## Exploratory data analysis\n",
    "\n",
    "### Number of observations (rows/records): "
   ]
  },
  {
   "cell_type": "code",
   "execution_count": 15,
   "metadata": {},
   "outputs": [
    {
     "data": {
      "text/plain": [
       "50"
      ]
     },
     "execution_count": 15,
     "metadata": {},
     "output_type": "execute_result"
    }
   ],
   "source": [
    "data.index.size\n"
   ]
  },
  {
   "cell_type": "markdown",
   "metadata": {},
   "source": [
    "---\n",
    "\n",
    "### Number of features (columns):"
   ]
  },
  {
   "cell_type": "code",
   "execution_count": 16,
   "metadata": {},
   "outputs": [
    {
     "data": {
      "text/plain": [
       "16"
      ]
     },
     "execution_count": 16,
     "metadata": {},
     "output_type": "execute_result"
    }
   ],
   "source": [
    "data.columns.size\n"
   ]
  },
  {
   "cell_type": "markdown",
   "metadata": {},
   "source": [
    "---\n",
    "\n",
    "### Which of the features are categorical (not numeric) and which are numeric?"
   ]
  },
  {
   "cell_type": "code",
   "execution_count": 17,
   "metadata": {},
   "outputs": [
    {
     "name": "stdout",
     "output_type": "stream",
     "text": [
      "Numeric features: energy, danceability, loudness, acousticness, speechiness, instrumentalness, liveness, valence, tempo, duration_ms\n",
      "Categorical features: artist, album, track_name, key, genre\n"
     ]
    }
   ],
   "source": [
    "numeric = data.dtypes[data.select_dtypes('number').columns].index.drop(\"key\")\n",
    "categorical = data.columns.drop(numeric)\n",
    "print(\"Numeric features: \" + \", \".join(numeric))\n",
    "print(\"Categorical features: \" + \", \". join(categorical.drop(\"track_id\")))"
   ]
  },
  {
   "cell_type": "markdown",
   "metadata": {},
   "source": [
    "After checking the kaggle website (source for this dataset), it turned out that even though 'key' is an integer, it is actually a categorical feature, so it had to be handled separately.\n",
    "\n",
    "Track_id is a random combination of chars and numbers, so it does not make sense to consider it categorical, as it is not going to repeat itself like a track_name (song title) could."
   ]
  },
  {
   "cell_type": "markdown",
   "metadata": {},
   "source": [
    "---\n",
    "\n",
    "### Are there any artists that have more than 1 popular track? If yes, which and how many?"
   ]
  },
  {
   "cell_type": "code",
   "execution_count": 18,
   "metadata": {},
   "outputs": [
    {
     "data": {
      "text/plain": [
       "artist\n",
       "Dua Lipa         3\n",
       "Billie Eilish    3\n",
       "Travis Scott     3\n",
       "Harry Styles     2\n",
       "Lewis Capaldi    2\n",
       "Justin Bieber    2\n",
       "Post Malone      2\n",
       "Name: multiple hits, dtype: int64"
      ]
     },
     "execution_count": 18,
     "metadata": {},
     "output_type": "execute_result"
    }
   ],
   "source": [
    "artist_occurence = data[\"artist\"].value_counts()\n",
    "multiple_occurence = artist_occurence[artist_occurence > 1].index\n",
    "artist_occurence[multiple_occurence].rename(\"multiple hits\")\n"
   ]
  },
  {
   "cell_type": "markdown",
   "metadata": {},
   "source": [
    "---\n",
    "\n",
    "### Who was the most popular artist?\n",
    "\n",
    "Based on what? I am going with the one that has the top song of the list."
   ]
  },
  {
   "cell_type": "code",
   "execution_count": 19,
   "metadata": {},
   "outputs": [
    {
     "name": "stdout",
     "output_type": "stream",
     "text": [
      "The Weeknd\n"
     ]
    }
   ],
   "source": [
    "winner = data['artist'][0]\n",
    "print(winner)"
   ]
  },
  {
   "cell_type": "markdown",
   "metadata": {},
   "source": [
    "---\n",
    "\n",
    "### How many artists in total have their songs in the top 50?\n"
   ]
  },
  {
   "cell_type": "code",
   "execution_count": 20,
   "metadata": {},
   "outputs": [
    {
     "data": {
      "text/plain": [
       "40"
      ]
     },
     "execution_count": 20,
     "metadata": {},
     "output_type": "execute_result"
    }
   ],
   "source": [
    "data[\"artist\"].unique().size\n"
   ]
  },
  {
   "cell_type": "markdown",
   "metadata": {},
   "source": [
    "---\n",
    "\n",
    "### Are there any albums that have more than 1 popular track? If yes, which and how many?"
   ]
  },
  {
   "cell_type": "code",
   "execution_count": 21,
   "metadata": {},
   "outputs": [
    {
     "name": "stdout",
     "output_type": "stream",
     "text": [
      "4 albums have more than one popular track.\n"
     ]
    },
    {
     "data": {
      "text/plain": [
       "album\n",
       "Future Nostalgia        3\n",
       "Hollywood's Bleeding    2\n",
       "Fine Line               2\n",
       "Changes                 2\n",
       "Name: Recurring albums, dtype: int64"
      ]
     },
     "execution_count": 21,
     "metadata": {},
     "output_type": "execute_result"
    }
   ],
   "source": [
    "albums = data['album'].value_counts()\n",
    "a_filter = albums[albums > 1].index\n",
    "print(f'{albums[a_filter].size} albums have more than one popular track.')\n",
    "albums[a_filter].rename(\"Recurring albums\")"
   ]
  },
  {
   "cell_type": "markdown",
   "metadata": {},
   "source": [
    "---\n",
    "### How many albums in total have their songs in the top 50?"
   ]
  },
  {
   "cell_type": "code",
   "execution_count": 22,
   "metadata": {},
   "outputs": [
    {
     "data": {
      "text/plain": [
       "45"
      ]
     },
     "execution_count": 22,
     "metadata": {},
     "output_type": "execute_result"
    }
   ],
   "source": [
    "albums.index.unique().size\n"
   ]
  },
  {
   "cell_type": "markdown",
   "metadata": {},
   "source": [
    "---\n",
    "\n",
    "### Which tracks have a danceability score above 0.7?\n"
   ]
  },
  {
   "cell_type": "code",
   "execution_count": 23,
   "metadata": {},
   "outputs": [
    {
     "data": {
      "text/html": [
       "<div>\n",
       "<style scoped>\n",
       "    .dataframe tbody tr th:only-of-type {\n",
       "        vertical-align: middle;\n",
       "    }\n",
       "\n",
       "    .dataframe tbody tr th {\n",
       "        vertical-align: top;\n",
       "    }\n",
       "\n",
       "    .dataframe thead th {\n",
       "        text-align: right;\n",
       "    }\n",
       "</style>\n",
       "<table border=\"1\" class=\"dataframe\">\n",
       "  <thead>\n",
       "    <tr style=\"text-align: right;\">\n",
       "      <th></th>\n",
       "      <th>track_name</th>\n",
       "      <th>danceability</th>\n",
       "    </tr>\n",
       "  </thead>\n",
       "  <tbody>\n",
       "    <tr>\n",
       "      <th>27</th>\n",
       "      <td>WAP (feat. Megan Thee Stallion)</td>\n",
       "      <td>0.935</td>\n",
       "    </tr>\n",
       "    <tr>\n",
       "      <th>2</th>\n",
       "      <td>The Box</td>\n",
       "      <td>0.896</td>\n",
       "    </tr>\n",
       "    <tr>\n",
       "      <th>39</th>\n",
       "      <td>Ride It</td>\n",
       "      <td>0.880</td>\n",
       "    </tr>\n",
       "    <tr>\n",
       "      <th>28</th>\n",
       "      <td>Sunday Best</td>\n",
       "      <td>0.878</td>\n",
       "    </tr>\n",
       "    <tr>\n",
       "      <th>33</th>\n",
       "      <td>Supalonely (feat. Gus Dapperton)</td>\n",
       "      <td>0.862</td>\n",
       "    </tr>\n",
       "    <tr>\n",
       "      <th>40</th>\n",
       "      <td>goosebumps</td>\n",
       "      <td>0.841</td>\n",
       "    </tr>\n",
       "    <tr>\n",
       "      <th>49</th>\n",
       "      <td>SICKO MODE</td>\n",
       "      <td>0.834</td>\n",
       "    </tr>\n",
       "    <tr>\n",
       "      <th>15</th>\n",
       "      <td>Toosie Slide</td>\n",
       "      <td>0.830</td>\n",
       "    </tr>\n",
       "    <tr>\n",
       "      <th>1</th>\n",
       "      <td>Dance Monkey</td>\n",
       "      <td>0.825</td>\n",
       "    </tr>\n",
       "    <tr>\n",
       "      <th>29</th>\n",
       "      <td>Godzilla (feat. Juice WRLD)</td>\n",
       "      <td>0.808</td>\n",
       "    </tr>\n",
       "    <tr>\n",
       "      <th>14</th>\n",
       "      <td>Intentions (feat. Quavo)</td>\n",
       "      <td>0.806</td>\n",
       "    </tr>\n",
       "    <tr>\n",
       "      <th>10</th>\n",
       "      <td>Tusa</td>\n",
       "      <td>0.803</td>\n",
       "    </tr>\n",
       "    <tr>\n",
       "      <th>19</th>\n",
       "      <td>Life Is Good (feat. Drake)</td>\n",
       "      <td>0.795</td>\n",
       "    </tr>\n",
       "    <tr>\n",
       "      <th>4</th>\n",
       "      <td>Don't Start Now</td>\n",
       "      <td>0.793</td>\n",
       "    </tr>\n",
       "    <tr>\n",
       "      <th>22</th>\n",
       "      <td>Breaking Me</td>\n",
       "      <td>0.789</td>\n",
       "    </tr>\n",
       "    <tr>\n",
       "      <th>17</th>\n",
       "      <td>Say So</td>\n",
       "      <td>0.787</td>\n",
       "    </tr>\n",
       "    <tr>\n",
       "      <th>3</th>\n",
       "      <td>Roses - Imanbek Remix</td>\n",
       "      <td>0.785</td>\n",
       "    </tr>\n",
       "    <tr>\n",
       "      <th>8</th>\n",
       "      <td>Falling</td>\n",
       "      <td>0.784</td>\n",
       "    </tr>\n",
       "    <tr>\n",
       "      <th>38</th>\n",
       "      <td>Hawái</td>\n",
       "      <td>0.783</td>\n",
       "    </tr>\n",
       "    <tr>\n",
       "      <th>13</th>\n",
       "      <td>Blueberry Faygo</td>\n",
       "      <td>0.774</td>\n",
       "    </tr>\n",
       "    <tr>\n",
       "      <th>20</th>\n",
       "      <td>Savage Love (Laxed - Siren Beat)</td>\n",
       "      <td>0.767</td>\n",
       "    </tr>\n",
       "    <tr>\n",
       "      <th>18</th>\n",
       "      <td>Memories</td>\n",
       "      <td>0.764</td>\n",
       "    </tr>\n",
       "    <tr>\n",
       "      <th>25</th>\n",
       "      <td>Señorita</td>\n",
       "      <td>0.759</td>\n",
       "    </tr>\n",
       "    <tr>\n",
       "      <th>37</th>\n",
       "      <td>Sunflower - Spider-Man: Into the Spider-Verse</td>\n",
       "      <td>0.755</td>\n",
       "    </tr>\n",
       "    <tr>\n",
       "      <th>32</th>\n",
       "      <td>Dynamite</td>\n",
       "      <td>0.746</td>\n",
       "    </tr>\n",
       "    <tr>\n",
       "      <th>5</th>\n",
       "      <td>ROCKSTAR (feat. Roddy Ricch)</td>\n",
       "      <td>0.746</td>\n",
       "    </tr>\n",
       "    <tr>\n",
       "      <th>31</th>\n",
       "      <td>Break My Heart</td>\n",
       "      <td>0.730</td>\n",
       "    </tr>\n",
       "    <tr>\n",
       "      <th>7</th>\n",
       "      <td>death bed (coffee for your head)</td>\n",
       "      <td>0.726</td>\n",
       "    </tr>\n",
       "    <tr>\n",
       "      <th>41</th>\n",
       "      <td>RITMO (Bad Boys For Life)</td>\n",
       "      <td>0.723</td>\n",
       "    </tr>\n",
       "    <tr>\n",
       "      <th>42</th>\n",
       "      <td>THE SCOTTS</td>\n",
       "      <td>0.716</td>\n",
       "    </tr>\n",
       "    <tr>\n",
       "      <th>24</th>\n",
       "      <td>everything i wanted</td>\n",
       "      <td>0.704</td>\n",
       "    </tr>\n",
       "    <tr>\n",
       "      <th>26</th>\n",
       "      <td>bad guy</td>\n",
       "      <td>0.701</td>\n",
       "    </tr>\n",
       "  </tbody>\n",
       "</table>\n",
       "</div>"
      ],
      "text/plain": [
       "                                       track_name  danceability\n",
       "27                WAP (feat. Megan Thee Stallion)         0.935\n",
       "2                                         The Box         0.896\n",
       "39                                        Ride It         0.880\n",
       "28                                    Sunday Best         0.878\n",
       "33               Supalonely (feat. Gus Dapperton)         0.862\n",
       "40                                     goosebumps         0.841\n",
       "49                                     SICKO MODE         0.834\n",
       "15                                   Toosie Slide         0.830\n",
       "1                                    Dance Monkey         0.825\n",
       "29                    Godzilla (feat. Juice WRLD)         0.808\n",
       "14                       Intentions (feat. Quavo)         0.806\n",
       "10                                           Tusa         0.803\n",
       "19                     Life Is Good (feat. Drake)         0.795\n",
       "4                                 Don't Start Now         0.793\n",
       "22                                    Breaking Me         0.789\n",
       "17                                         Say So         0.787\n",
       "3                           Roses - Imanbek Remix         0.785\n",
       "8                                         Falling         0.784\n",
       "38                                          Hawái         0.783\n",
       "13                                Blueberry Faygo         0.774\n",
       "20               Savage Love (Laxed - Siren Beat)         0.767\n",
       "18                                       Memories         0.764\n",
       "25                                       Señorita         0.759\n",
       "37  Sunflower - Spider-Man: Into the Spider-Verse         0.755\n",
       "32                                       Dynamite         0.746\n",
       "5                    ROCKSTAR (feat. Roddy Ricch)         0.746\n",
       "31                                 Break My Heart         0.730\n",
       "7                death bed (coffee for your head)         0.726\n",
       "41                      RITMO (Bad Boys For Life)         0.723\n",
       "42                                     THE SCOTTS         0.716\n",
       "24                            everything i wanted         0.704\n",
       "26                                        bad guy         0.701"
      ]
     },
     "execution_count": 23,
     "metadata": {},
     "output_type": "execute_result"
    }
   ],
   "source": [
    "data[[\"track_name\", \"danceability\"]][data[\"danceability\"] > 0.7].sort_values(\"danceability\", ascending=False)\n"
   ]
  },
  {
   "cell_type": "markdown",
   "metadata": {},
   "source": [
    "---\n",
    "\n",
    "### Which tracks have a danceability score below 0.4?\n"
   ]
  },
  {
   "cell_type": "code",
   "execution_count": 24,
   "metadata": {},
   "outputs": [
    {
     "data": {
      "text/html": [
       "<div>\n",
       "<style scoped>\n",
       "    .dataframe tbody tr th:only-of-type {\n",
       "        vertical-align: middle;\n",
       "    }\n",
       "\n",
       "    .dataframe tbody tr th {\n",
       "        vertical-align: top;\n",
       "    }\n",
       "\n",
       "    .dataframe thead th {\n",
       "        text-align: right;\n",
       "    }\n",
       "</style>\n",
       "<table border=\"1\" class=\"dataframe\">\n",
       "  <thead>\n",
       "    <tr style=\"text-align: right;\">\n",
       "      <th></th>\n",
       "      <th>track_name</th>\n",
       "      <th>danceability</th>\n",
       "    </tr>\n",
       "  </thead>\n",
       "  <tbody>\n",
       "    <tr>\n",
       "      <th>44</th>\n",
       "      <td>lovely (with Khalid)</td>\n",
       "      <td>0.351</td>\n",
       "    </tr>\n",
       "  </tbody>\n",
       "</table>\n",
       "</div>"
      ],
      "text/plain": [
       "              track_name  danceability\n",
       "44  lovely (with Khalid)         0.351"
      ]
     },
     "execution_count": 24,
     "metadata": {},
     "output_type": "execute_result"
    }
   ],
   "source": [
    "data[[\"track_name\", \"danceability\"]][data[\"danceability\"] < 0.4].sort_values(\"danceability\", ascending=False)\n"
   ]
  },
  {
   "cell_type": "markdown",
   "metadata": {},
   "source": [
    "---\n",
    "\n",
    "### Which tracks have their loudness above -5?\n"
   ]
  },
  {
   "cell_type": "code",
   "execution_count": 25,
   "metadata": {},
   "outputs": [
    {
     "data": {
      "text/html": [
       "<div>\n",
       "<style scoped>\n",
       "    .dataframe tbody tr th:only-of-type {\n",
       "        vertical-align: middle;\n",
       "    }\n",
       "\n",
       "    .dataframe tbody tr th {\n",
       "        vertical-align: top;\n",
       "    }\n",
       "\n",
       "    .dataframe thead th {\n",
       "        text-align: right;\n",
       "    }\n",
       "</style>\n",
       "<table border=\"1\" class=\"dataframe\">\n",
       "  <thead>\n",
       "    <tr style=\"text-align: right;\">\n",
       "      <th></th>\n",
       "      <th>track_name</th>\n",
       "      <th>loudness</th>\n",
       "    </tr>\n",
       "  </thead>\n",
       "  <tbody>\n",
       "    <tr>\n",
       "      <th>10</th>\n",
       "      <td>Tusa</td>\n",
       "      <td>-3.280</td>\n",
       "    </tr>\n",
       "    <tr>\n",
       "      <th>40</th>\n",
       "      <td>goosebumps</td>\n",
       "      <td>-3.370</td>\n",
       "    </tr>\n",
       "    <tr>\n",
       "      <th>31</th>\n",
       "      <td>Break My Heart</td>\n",
       "      <td>-3.434</td>\n",
       "    </tr>\n",
       "    <tr>\n",
       "      <th>38</th>\n",
       "      <td>Hawái</td>\n",
       "      <td>-3.454</td>\n",
       "    </tr>\n",
       "    <tr>\n",
       "      <th>12</th>\n",
       "      <td>Circles</td>\n",
       "      <td>-3.497</td>\n",
       "    </tr>\n",
       "    <tr>\n",
       "      <th>23</th>\n",
       "      <td>Mood (feat. iann dior)</td>\n",
       "      <td>-3.558</td>\n",
       "    </tr>\n",
       "    <tr>\n",
       "      <th>21</th>\n",
       "      <td>Adore You</td>\n",
       "      <td>-3.675</td>\n",
       "    </tr>\n",
       "    <tr>\n",
       "      <th>49</th>\n",
       "      <td>SICKO MODE</td>\n",
       "      <td>-3.714</td>\n",
       "    </tr>\n",
       "    <tr>\n",
       "      <th>48</th>\n",
       "      <td>Physical</td>\n",
       "      <td>-3.756</td>\n",
       "    </tr>\n",
       "    <tr>\n",
       "      <th>35</th>\n",
       "      <td>Rain On Me (with Ariana Grande)</td>\n",
       "      <td>-3.764</td>\n",
       "    </tr>\n",
       "    <tr>\n",
       "      <th>43</th>\n",
       "      <td>Safaera</td>\n",
       "      <td>-4.074</td>\n",
       "    </tr>\n",
       "    <tr>\n",
       "      <th>6</th>\n",
       "      <td>Watermelon Sugar</td>\n",
       "      <td>-4.209</td>\n",
       "    </tr>\n",
       "    <tr>\n",
       "      <th>39</th>\n",
       "      <td>Ride It</td>\n",
       "      <td>-4.258</td>\n",
       "    </tr>\n",
       "    <tr>\n",
       "      <th>37</th>\n",
       "      <td>Sunflower - Spider-Man: Into the Spider-Verse</td>\n",
       "      <td>-4.368</td>\n",
       "    </tr>\n",
       "    <tr>\n",
       "      <th>32</th>\n",
       "      <td>Dynamite</td>\n",
       "      <td>-4.410</td>\n",
       "    </tr>\n",
       "    <tr>\n",
       "      <th>4</th>\n",
       "      <td>Don't Start Now</td>\n",
       "      <td>-4.521</td>\n",
       "    </tr>\n",
       "    <tr>\n",
       "      <th>17</th>\n",
       "      <td>Say So</td>\n",
       "      <td>-4.577</td>\n",
       "    </tr>\n",
       "    <tr>\n",
       "      <th>33</th>\n",
       "      <td>Supalonely (feat. Gus Dapperton)</td>\n",
       "      <td>-4.746</td>\n",
       "    </tr>\n",
       "    <tr>\n",
       "      <th>16</th>\n",
       "      <td>Before You Go</td>\n",
       "      <td>-4.858</td>\n",
       "    </tr>\n",
       "  </tbody>\n",
       "</table>\n",
       "</div>"
      ],
      "text/plain": [
       "                                       track_name  loudness\n",
       "10                                           Tusa    -3.280\n",
       "40                                     goosebumps    -3.370\n",
       "31                                 Break My Heart    -3.434\n",
       "38                                          Hawái    -3.454\n",
       "12                                        Circles    -3.497\n",
       "23                         Mood (feat. iann dior)    -3.558\n",
       "21                                      Adore You    -3.675\n",
       "49                                     SICKO MODE    -3.714\n",
       "48                                       Physical    -3.756\n",
       "35                Rain On Me (with Ariana Grande)    -3.764\n",
       "43                                        Safaera    -4.074\n",
       "6                                Watermelon Sugar    -4.209\n",
       "39                                        Ride It    -4.258\n",
       "37  Sunflower - Spider-Man: Into the Spider-Verse    -4.368\n",
       "32                                       Dynamite    -4.410\n",
       "4                                 Don't Start Now    -4.521\n",
       "17                                         Say So    -4.577\n",
       "33               Supalonely (feat. Gus Dapperton)    -4.746\n",
       "16                                  Before You Go    -4.858"
      ]
     },
     "execution_count": 25,
     "metadata": {},
     "output_type": "execute_result"
    }
   ],
   "source": [
    "data[[\"track_name\", \"loudness\"]][data['loudness']> -5].sort_values(\"loudness\", ascending=False)\n"
   ]
  },
  {
   "cell_type": "markdown",
   "metadata": {},
   "source": [
    "---\n",
    "\n",
    "### Which tracks have their loudness below -8?\n"
   ]
  },
  {
   "cell_type": "code",
   "execution_count": 26,
   "metadata": {},
   "outputs": [
    {
     "data": {
      "text/html": [
       "<div>\n",
       "<style scoped>\n",
       "    .dataframe tbody tr th:only-of-type {\n",
       "        vertical-align: middle;\n",
       "    }\n",
       "\n",
       "    .dataframe tbody tr th {\n",
       "        vertical-align: top;\n",
       "    }\n",
       "\n",
       "    .dataframe thead th {\n",
       "        text-align: right;\n",
       "    }\n",
       "</style>\n",
       "<table border=\"1\" class=\"dataframe\">\n",
       "  <thead>\n",
       "    <tr style=\"text-align: right;\">\n",
       "      <th></th>\n",
       "      <th>track_name</th>\n",
       "      <th>loudness</th>\n",
       "    </tr>\n",
       "  </thead>\n",
       "  <tbody>\n",
       "    <tr>\n",
       "      <th>20</th>\n",
       "      <td>Savage Love (Laxed - Siren Beat)</td>\n",
       "      <td>-8.520</td>\n",
       "    </tr>\n",
       "    <tr>\n",
       "      <th>8</th>\n",
       "      <td>Falling</td>\n",
       "      <td>-8.756</td>\n",
       "    </tr>\n",
       "    <tr>\n",
       "      <th>36</th>\n",
       "      <td>HIGHEST IN THE ROOM</td>\n",
       "      <td>-8.764</td>\n",
       "    </tr>\n",
       "    <tr>\n",
       "      <th>7</th>\n",
       "      <td>death bed (coffee for your head)</td>\n",
       "      <td>-8.765</td>\n",
       "    </tr>\n",
       "    <tr>\n",
       "      <th>15</th>\n",
       "      <td>Toosie Slide</td>\n",
       "      <td>-8.820</td>\n",
       "    </tr>\n",
       "    <tr>\n",
       "      <th>47</th>\n",
       "      <td>If the World Was Ending - feat. Julia Michaels</td>\n",
       "      <td>-10.086</td>\n",
       "    </tr>\n",
       "    <tr>\n",
       "      <th>44</th>\n",
       "      <td>lovely (with Khalid)</td>\n",
       "      <td>-10.109</td>\n",
       "    </tr>\n",
       "    <tr>\n",
       "      <th>26</th>\n",
       "      <td>bad guy</td>\n",
       "      <td>-10.965</td>\n",
       "    </tr>\n",
       "    <tr>\n",
       "      <th>24</th>\n",
       "      <td>everything i wanted</td>\n",
       "      <td>-14.454</td>\n",
       "    </tr>\n",
       "  </tbody>\n",
       "</table>\n",
       "</div>"
      ],
      "text/plain": [
       "                                        track_name  loudness\n",
       "20                Savage Love (Laxed - Siren Beat)    -8.520\n",
       "8                                          Falling    -8.756\n",
       "36                             HIGHEST IN THE ROOM    -8.764\n",
       "7                 death bed (coffee for your head)    -8.765\n",
       "15                                    Toosie Slide    -8.820\n",
       "47  If the World Was Ending - feat. Julia Michaels   -10.086\n",
       "44                            lovely (with Khalid)   -10.109\n",
       "26                                         bad guy   -10.965\n",
       "24                             everything i wanted   -14.454"
      ]
     },
     "execution_count": 26,
     "metadata": {},
     "output_type": "execute_result"
    }
   ],
   "source": [
    "data[[\"track_name\", \"loudness\"]][data['loudness'] < -8].sort_values(\"loudness\", ascending=False)\n"
   ]
  },
  {
   "cell_type": "markdown",
   "metadata": {},
   "source": [
    "---\n",
    "\n",
    "### Which track is the longest?\n"
   ]
  },
  {
   "cell_type": "code",
   "execution_count": 27,
   "metadata": {},
   "outputs": [
    {
     "name": "stdout",
     "output_type": "stream",
     "text": [
      "SICKO MODE\n"
     ]
    }
   ],
   "source": [
    "longest_track = data[\"track_name\"][data[\"duration_ms\"].idxmax()]\n",
    "print(longest_track)"
   ]
  },
  {
   "cell_type": "markdown",
   "metadata": {},
   "source": [
    "---\n",
    "\n",
    "### Which track is the shortest?\n"
   ]
  },
  {
   "cell_type": "code",
   "execution_count": 28,
   "metadata": {},
   "outputs": [
    {
     "name": "stdout",
     "output_type": "stream",
     "text": [
      "Mood (feat. iann dior)\n"
     ]
    }
   ],
   "source": [
    "shortest_track = data[\"track_name\"][data[\"duration_ms\"].idxmin()]\n",
    "print(shortest_track)"
   ]
  },
  {
   "cell_type": "markdown",
   "metadata": {},
   "source": [
    "---\n",
    "\n",
    "### Which genre is the most popular?\n"
   ]
  },
  {
   "cell_type": "code",
   "execution_count": 29,
   "metadata": {},
   "outputs": [
    {
     "name": "stdout",
     "output_type": "stream",
     "text": [
      "Pop\n"
     ]
    }
   ],
   "source": [
    "genres = data.genre\n",
    "top_genre = genres.value_counts().idxmax()\n",
    "print(top_genre)"
   ]
  },
  {
   "cell_type": "markdown",
   "metadata": {},
   "source": [
    "---\n",
    "\n",
    "### Which genres have just one song on the top 50?\n"
   ]
  },
  {
   "cell_type": "code",
   "execution_count": 46,
   "metadata": {},
   "outputs": [
    {
     "name": "stdout",
     "output_type": "stream",
     "text": [
      "Nu-disco\n",
      "Hip-Hop alternative\n",
      "Soft Rock\n",
      "Pop rap\n",
      "Trap\n",
      "Dance-pop\n",
      "Disco\n",
      "Disco-pop\n",
      "Dreampop\n",
      "reggaeton\n",
      "experimental\n",
      "Chamber pop\n"
     ]
    }
   ],
   "source": [
    "flat_genres = genres.str.split(pat=\"/\", expand=True).to_numpy().flatten()\n",
    "split_genres=pd.Series(flat_genres)\n",
    "split_genres_values = split_genres.value_counts()\n",
    "split_genres_list = split_genres_values.loc[split_genres.value_counts().values == 1].index.to_list()\n",
    "print('\\n'.join(split_genres_list))"
   ]
  },
  {
   "cell_type": "markdown",
   "metadata": {},
   "source": [
    "Simply counting the unique values without splitting gives a false result."
   ]
  },
  {
   "cell_type": "code",
   "execution_count": 31,
   "metadata": {},
   "outputs": [
    {
     "name": "stdout",
     "output_type": "stream",
     "text": [
      "R&B/Hip-Hop alternative\n",
      "Nu-disco\n",
      "Pop/Soft Rock\n",
      "Pop rap\n",
      "Hip-Hop/Trap\n",
      "Dance-pop/Disco\n",
      "Disco-pop\n",
      "Dreampop/Hip-Hop/R&B\n",
      "Alternative/reggaeton/experimental\n",
      "Chamber pop\n"
     ]
    }
   ],
   "source": [
    "one_hit_genres = genres.value_counts()[(genres.value_counts().values == 1)].index.to_list()\n",
    "print('\\n'.join(one_hit_genres))"
   ]
  },
  {
   "cell_type": "markdown",
   "metadata": {},
   "source": [
    "---\n",
    "\n",
    "### How many genres in total are represented in the top 50?\n",
    "\n",
    "I split the mixed genres by '/' character and then counted the unique values.\n"
   ]
  },
  {
   "cell_type": "code",
   "execution_count": 32,
   "metadata": {},
   "outputs": [
    {
     "data": {
      "text/plain": [
       "23"
      ]
     },
     "execution_count": 32,
     "metadata": {},
     "output_type": "execute_result"
    }
   ],
   "source": [
    "pd.unique(flat_genres).size"
   ]
  },
  {
   "cell_type": "markdown",
   "metadata": {},
   "source": [
    "If I only count the unique values without splitting, we get a false result."
   ]
  },
  {
   "cell_type": "code",
   "execution_count": 33,
   "metadata": {},
   "outputs": [
    {
     "data": {
      "text/plain": [
       "16"
      ]
     },
     "execution_count": 33,
     "metadata": {},
     "output_type": "execute_result"
    }
   ],
   "source": [
    "genres.unique().size\n"
   ]
  },
  {
   "cell_type": "markdown",
   "metadata": {},
   "source": [
    "---\n",
    "\n",
    "## Questions related to correlation\n",
    "\n",
    "Creating the correlation matrix for the numerical features in the DataFrame.\n",
    "\n",
    "Also creating a heatmap to visualize the correlation matrix."
   ]
  },
  {
   "cell_type": "code",
   "execution_count": 34,
   "metadata": {},
   "outputs": [
    {
     "data": {
      "image/png": "[encoded data removed]",
      "text/plain": [
       "<Figure size 1000x800 with 2 Axes>"
      ]
     },
     "metadata": {},
     "output_type": "display_data"
    }
   ],
   "source": [
    "corr_m = data[numeric].corr()\n",
    "correl_heat_map(corr_m)"
   ]
  },
  {
   "cell_type": "markdown",
   "metadata": {},
   "source": [
    "### Which features are strongly positively correlated? (0.5 - 1.0)\n",
    "\n",
    "Strong positive correlation means that if of one of the values increases, the correlated feature's value does as well in a significant manner."
   ]
  },
  {
   "cell_type": "markdown",
   "metadata": {},
   "source": [
    "Displaying the relevant part of the correlation matrix, and extracting the data to print the result in text form without duplicates."
   ]
  },
  {
   "cell_type": "code",
   "execution_count": 35,
   "metadata": {},
   "outputs": [
    {
     "name": "stdout",
     "output_type": "stream",
     "text": [
      "           energy  loudness\n",
      "energy        NaN   0.79164\n",
      "loudness  0.79164       NaN\n",
      "\n",
      "\n",
      "Feature 'energy' and feature 'loudness' are strongly positively correlated: 0.7916395653045617\n"
     ]
    }
   ],
   "source": [
    "pos_filter = (corr_m >= 0.5) & (corr_m < 1)\n",
    "pos = corr_m[pos_filter].dropna(how='all').dropna(axis = 1, how = 'all')\n",
    "print(pos)\n",
    "print(\"\\n\")\n",
    "\n",
    "correlated_tags = []\n",
    "for row in pos.index:\n",
    "    for col in pos.columns:\n",
    "        if pd.notna(pos.loc[row, col]):\n",
    "            if (col, row) not in correlated_tags and (row, col) not in correlated_tags:\n",
    "                correlated_tags.append((row, col))\n",
    "\n",
    "for tag in correlated_tags:\n",
    "    row, col = tag\n",
    "    print(f\"Feature '{row}' and feature '{col}' are strongly positively correlated: {pos.loc[row, col]}\")"
   ]
  },
  {
   "cell_type": "markdown",
   "metadata": {},
   "source": [
    "This result could be used to handle the correlated features as a substitute for each other in case of missing data, e.g. if the energy feature is missing, we can assume that in case of a high loudness value we are not making a mistake by adding the record to a playlist called 'Energetic songs'."
   ]
  },
  {
   "cell_type": "markdown",
   "metadata": {},
   "source": [
    "### Which features are strongly negatively correlated? (-1.0 - -0.5)\n",
    "\n",
    "Strong negative correlation means that if of one of the values increases, the correlated feature's value decreases in a significant manner."
   ]
  },
  {
   "cell_type": "markdown",
   "metadata": {},
   "source": [
    "Displaying the relevant part of the correlation matrix, and extracting the data to print the result in text form without duplicates."
   ]
  },
  {
   "cell_type": "code",
   "execution_count": 36,
   "metadata": {},
   "outputs": [
    {
     "name": "stdout",
     "output_type": "stream",
     "text": [
      "                    energy  loudness  acousticness  instrumentalness\n",
      "energy                 NaN       NaN     -0.682479               NaN\n",
      "loudness               NaN       NaN           NaN         -0.553735\n",
      "acousticness     -0.682479       NaN           NaN               NaN\n",
      "instrumentalness       NaN -0.553735           NaN               NaN\n",
      "\n",
      "\n",
      "Feature 'energy' and feature 'acousticness' are strongly negatively correlated: -0.6824785203241528\n",
      "Feature 'loudness' and feature 'instrumentalness' are strongly negatively correlated: -0.5537348090851054\n"
     ]
    }
   ],
   "source": [
    "neg_filter = (corr_m < -0.5)\n",
    "neg = corr_m[neg_filter].dropna(how='all').dropna(axis = 1, how = 'all')\n",
    "print(neg)\n",
    "print('\\n')\n",
    "\n",
    "correlated_tags = []\n",
    "for row in neg.index:\n",
    "    for col in neg.columns:\n",
    "        if pd.notna(neg.loc[row, col]):\n",
    "            if (col, row) not in correlated_tags and (row, col) not in correlated_tags:\n",
    "                correlated_tags.append((row, col))\n",
    "\n",
    "for tag in correlated_tags:\n",
    "    row, col = tag\n",
    "    print(f\"Feature '{row}' and feature '{col}' are strongly negatively correlated: {neg.loc[row, col]}\")\n"
   ]
  },
  {
   "cell_type": "markdown",
   "metadata": {},
   "source": [
    "These results suggest that for example instrumental songs do not tend to be loud, and acoustic songs do not tend to be that energetic.\n",
    "\n",
    "A conclusion could be, that since instrumental and acoustic songs usually have these as keywords in their titles, they can be ignored solely based on these words when making suggestions for a teenage party playlist, or the other way around, be top choices for café or meditation mixes. "
   ]
  },
  {
   "cell_type": "markdown",
   "metadata": {},
   "source": [
    "### Which features are not correlated? (-0.1 - 0.1)\n",
    "\n",
    "Not correlated features do not display any major change as an effect of the change in value of the other feature."
   ]
  },
  {
   "cell_type": "markdown",
   "metadata": {},
   "source": [
    "Displaying the relevant part of the correlation matrix without values, and extracting the data to print the result in text form without duplicates (if text is needed, remove #)."
   ]
  },
  {
   "cell_type": "code",
   "execution_count": 37,
   "metadata": {},
   "outputs": [],
   "source": [
    "neutral_filter = (corr_m <0.1) & (corr_m > -0.1)\n",
    "neutral = corr_m[neutral_filter].dropna(how='all').dropna(axis = 1, how = 'all')\n",
    "\n",
    "not_correlated_tags = []\n",
    "for row in neutral.index:\n",
    "    for col in neutral.columns:\n",
    "        if not pd.notna(neutral.loc[row, col]):\n",
    "            if (col, row) not in not_correlated_tags and (row, col) not in not_correlated_tags:\n",
    "                not_correlated_tags.append((row, col))\n",
    "\n",
    "# for tag in not_correlated_tags:\n",
    "#     row, col = tag\n",
    "#     print(f\"Feature '{row}' and feature '{col}' are not in correlation.\")\n",
    "    "
   ]
  },
  {
   "cell_type": "markdown",
   "metadata": {},
   "source": [
    " ### Cells marked with 'x' are not in statistical correlation."
   ]
  },
  {
   "cell_type": "code",
   "execution_count": 38,
   "metadata": {},
   "outputs": [
    {
     "data": {
      "text/html": [
       "<div>\n",
       "<style scoped>\n",
       "    .dataframe tbody tr th:only-of-type {\n",
       "        vertical-align: middle;\n",
       "    }\n",
       "\n",
       "    .dataframe tbody tr th {\n",
       "        vertical-align: top;\n",
       "    }\n",
       "\n",
       "    .dataframe thead th {\n",
       "        text-align: right;\n",
       "    }\n",
       "</style>\n",
       "<table border=\"1\" class=\"dataframe\">\n",
       "  <thead>\n",
       "    <tr style=\"text-align: right;\">\n",
       "      <th></th>\n",
       "      <th>energy</th>\n",
       "      <th>danceability</th>\n",
       "      <th>loudness</th>\n",
       "      <th>acousticness</th>\n",
       "      <th>speechiness</th>\n",
       "      <th>instrumentalness</th>\n",
       "      <th>liveness</th>\n",
       "      <th>valence</th>\n",
       "      <th>tempo</th>\n",
       "      <th>duration_ms</th>\n",
       "    </tr>\n",
       "  </thead>\n",
       "  <tbody>\n",
       "    <tr>\n",
       "      <th>energy</th>\n",
       "      <td>-</td>\n",
       "      <td>-</td>\n",
       "      <td>-</td>\n",
       "      <td>-</td>\n",
       "      <td>x</td>\n",
       "      <td>-</td>\n",
       "      <td>x</td>\n",
       "      <td>-</td>\n",
       "      <td>x</td>\n",
       "      <td>x</td>\n",
       "    </tr>\n",
       "    <tr>\n",
       "      <th>danceability</th>\n",
       "      <td>-</td>\n",
       "      <td>-</td>\n",
       "      <td>-</td>\n",
       "      <td>-</td>\n",
       "      <td>-</td>\n",
       "      <td>x</td>\n",
       "      <td>x</td>\n",
       "      <td>-</td>\n",
       "      <td>-</td>\n",
       "      <td>x</td>\n",
       "    </tr>\n",
       "    <tr>\n",
       "      <th>loudness</th>\n",
       "      <td>-</td>\n",
       "      <td>-</td>\n",
       "      <td>-</td>\n",
       "      <td>-</td>\n",
       "      <td>x</td>\n",
       "      <td>-</td>\n",
       "      <td>x</td>\n",
       "      <td>-</td>\n",
       "      <td>-</td>\n",
       "      <td>x</td>\n",
       "    </tr>\n",
       "    <tr>\n",
       "      <th>acousticness</th>\n",
       "      <td>-</td>\n",
       "      <td>-</td>\n",
       "      <td>-</td>\n",
       "      <td>-</td>\n",
       "      <td>-</td>\n",
       "      <td>-</td>\n",
       "      <td>-</td>\n",
       "      <td>-</td>\n",
       "      <td>-</td>\n",
       "      <td>x</td>\n",
       "    </tr>\n",
       "    <tr>\n",
       "      <th>speechiness</th>\n",
       "      <td>x</td>\n",
       "      <td>-</td>\n",
       "      <td>x</td>\n",
       "      <td>-</td>\n",
       "      <td>-</td>\n",
       "      <td>x</td>\n",
       "      <td>-</td>\n",
       "      <td>x</td>\n",
       "      <td>-</td>\n",
       "      <td>-</td>\n",
       "    </tr>\n",
       "    <tr>\n",
       "      <th>instrumentalness</th>\n",
       "      <td>-</td>\n",
       "      <td>x</td>\n",
       "      <td>-</td>\n",
       "      <td>-</td>\n",
       "      <td>x</td>\n",
       "      <td>-</td>\n",
       "      <td>x</td>\n",
       "      <td>-</td>\n",
       "      <td>x</td>\n",
       "      <td>-</td>\n",
       "    </tr>\n",
       "    <tr>\n",
       "      <th>liveness</th>\n",
       "      <td>x</td>\n",
       "      <td>x</td>\n",
       "      <td>x</td>\n",
       "      <td>-</td>\n",
       "      <td>-</td>\n",
       "      <td>x</td>\n",
       "      <td>-</td>\n",
       "      <td>x</td>\n",
       "      <td>x</td>\n",
       "      <td>x</td>\n",
       "    </tr>\n",
       "    <tr>\n",
       "      <th>valence</th>\n",
       "      <td>-</td>\n",
       "      <td>-</td>\n",
       "      <td>-</td>\n",
       "      <td>-</td>\n",
       "      <td>x</td>\n",
       "      <td>-</td>\n",
       "      <td>x</td>\n",
       "      <td>-</td>\n",
       "      <td>x</td>\n",
       "      <td>x</td>\n",
       "    </tr>\n",
       "    <tr>\n",
       "      <th>tempo</th>\n",
       "      <td>x</td>\n",
       "      <td>-</td>\n",
       "      <td>-</td>\n",
       "      <td>-</td>\n",
       "      <td>-</td>\n",
       "      <td>x</td>\n",
       "      <td>x</td>\n",
       "      <td>x</td>\n",
       "      <td>-</td>\n",
       "      <td>-</td>\n",
       "    </tr>\n",
       "    <tr>\n",
       "      <th>duration_ms</th>\n",
       "      <td>x</td>\n",
       "      <td>x</td>\n",
       "      <td>x</td>\n",
       "      <td>x</td>\n",
       "      <td>-</td>\n",
       "      <td>-</td>\n",
       "      <td>x</td>\n",
       "      <td>x</td>\n",
       "      <td>-</td>\n",
       "      <td>-</td>\n",
       "    </tr>\n",
       "  </tbody>\n",
       "</table>\n",
       "</div>"
      ],
      "text/plain": [
       "                 energy danceability loudness acousticness speechiness  \\\n",
       "energy                -            -        -            -           x   \n",
       "danceability          -            -        -            -           -   \n",
       "loudness              -            -        -            -           x   \n",
       "acousticness          -            -        -            -           -   \n",
       "speechiness           x            -        x            -           -   \n",
       "instrumentalness      -            x        -            -           x   \n",
       "liveness              x            x        x            -           -   \n",
       "valence               -            -        -            -           x   \n",
       "tempo                 x            -        -            -           -   \n",
       "duration_ms           x            x        x            x           -   \n",
       "\n",
       "                 instrumentalness liveness valence tempo duration_ms  \n",
       "energy                          -        x       -     x           x  \n",
       "danceability                    x        x       -     -           x  \n",
       "loudness                        -        x       -     -           x  \n",
       "acousticness                    -        -       -     -           x  \n",
       "speechiness                     x        -       x     -           -  \n",
       "instrumentalness                -        x       -     x           -  \n",
       "liveness                        x        -       x     x           x  \n",
       "valence                         -        x       -     x           x  \n",
       "tempo                           x        x       x     -           -  \n",
       "duration_ms                     -        x       x     -           -  "
      ]
     },
     "execution_count": 38,
     "metadata": {},
     "output_type": "execute_result"
    }
   ],
   "source": [
    "corr_m.where(neutral_filter, \"-\").where(~neutral_filter, \"x\")"
   ]
  },
  {
   "cell_type": "markdown",
   "metadata": {},
   "source": [
    "The result help understand which features do not influence each other in a significant manner.\n",
    "\n",
    "For instance, the duration of the track does not influence its loudness."
   ]
  },
  {
   "cell_type": "markdown",
   "metadata": {},
   "source": [
    "---\n",
    "\n",
    "## How does the danceability score compare between Pop, Hip-Hop/Rap, Dance/Electronic, and Alternative/Indie genres?"
   ]
  },
  {
   "cell_type": "markdown",
   "metadata": {},
   "source": [
    "I created the filters as variables, so it is easy to modify which genres and features we want to analyze.\n",
    "\n",
    "First filtering the data required for the analysis: genres set as index for easier handling, and the relevant columns.\n",
    "\n",
    "I grouped the DataFrame by genre, and created the columns for the statistical characteristics of each feature (mean, min, median, max, std) to be able to compare the genres."
   ]
  },
  {
   "cell_type": "code",
   "execution_count": 39,
   "metadata": {},
   "outputs": [],
   "source": [
    "genre_filter = [\"Pop\", \"Hip-Hop/Rap\", \"Dance/Electronic\", \"Alternative/Indie\"]\n",
    "feature_filter = [\"danceability\", \"loudness\", \"acousticness\"]\n",
    "\n",
    "comparison_base = data.set_index(\"genre\").loc[genre_filter, feature_filter]\n",
    "comparison = comparison_base.groupby(\"genre\").agg([ 'mean', 'min', 'median', 'max', 'std'])"
   ]
  },
  {
   "cell_type": "markdown",
   "metadata": {},
   "source": [
    "Defining a function to filter by feature and sort by given argument to avoid manual repetition. "
   ]
  },
  {
   "cell_type": "code",
   "execution_count": 40,
   "metadata": {},
   "outputs": [],
   "source": [
    "def filter_comparison(base, feature, sort_by):\n",
    "    return base.loc[:, feature].sort_values(by = sort_by)"
   ]
  },
  {
   "cell_type": "markdown",
   "metadata": {},
   "source": [
    "Retrieving the relevant column for the question and sorting by its mean values in ascending order."
   ]
  },
  {
   "cell_type": "code",
   "execution_count": 41,
   "metadata": {},
   "outputs": [
    {
     "data": {
      "text/html": [
       "<div>\n",
       "<style scoped>\n",
       "    .dataframe tbody tr th:only-of-type {\n",
       "        vertical-align: middle;\n",
       "    }\n",
       "\n",
       "    .dataframe tbody tr th {\n",
       "        vertical-align: top;\n",
       "    }\n",
       "\n",
       "    .dataframe thead th {\n",
       "        text-align: right;\n",
       "    }\n",
       "</style>\n",
       "<table border=\"1\" class=\"dataframe\">\n",
       "  <thead>\n",
       "    <tr style=\"text-align: right;\">\n",
       "      <th></th>\n",
       "      <th>mean</th>\n",
       "      <th>min</th>\n",
       "      <th>median</th>\n",
       "      <th>max</th>\n",
       "      <th>std</th>\n",
       "    </tr>\n",
       "    <tr>\n",
       "      <th>genre</th>\n",
       "      <th></th>\n",
       "      <th></th>\n",
       "      <th></th>\n",
       "      <th></th>\n",
       "      <th></th>\n",
       "    </tr>\n",
       "  </thead>\n",
       "  <tbody>\n",
       "    <tr>\n",
       "      <th>Alternative/Indie</th>\n",
       "      <td>0.661750</td>\n",
       "      <td>0.459</td>\n",
       "      <td>0.663</td>\n",
       "      <td>0.862</td>\n",
       "      <td>0.211107</td>\n",
       "    </tr>\n",
       "    <tr>\n",
       "      <th>Pop</th>\n",
       "      <td>0.677571</td>\n",
       "      <td>0.464</td>\n",
       "      <td>0.690</td>\n",
       "      <td>0.806</td>\n",
       "      <td>0.109853</td>\n",
       "    </tr>\n",
       "    <tr>\n",
       "      <th>Dance/Electronic</th>\n",
       "      <td>0.755000</td>\n",
       "      <td>0.647</td>\n",
       "      <td>0.785</td>\n",
       "      <td>0.880</td>\n",
       "      <td>0.094744</td>\n",
       "    </tr>\n",
       "    <tr>\n",
       "      <th>Hip-Hop/Rap</th>\n",
       "      <td>0.765538</td>\n",
       "      <td>0.598</td>\n",
       "      <td>0.774</td>\n",
       "      <td>0.896</td>\n",
       "      <td>0.085470</td>\n",
       "    </tr>\n",
       "  </tbody>\n",
       "</table>\n",
       "</div>"
      ],
      "text/plain": [
       "                       mean    min  median    max       std\n",
       "genre                                                      \n",
       "Alternative/Indie  0.661750  0.459   0.663  0.862  0.211107\n",
       "Pop                0.677571  0.464   0.690  0.806  0.109853\n",
       "Dance/Electronic   0.755000  0.647   0.785  0.880  0.094744\n",
       "Hip-Hop/Rap        0.765538  0.598   0.774  0.896  0.085470"
      ]
     },
     "execution_count": 41,
     "metadata": {},
     "output_type": "execute_result"
    }
   ],
   "source": [
    "filter_comparison(comparison, \"danceability\", \"mean\")\n"
   ]
  },
  {
   "cell_type": "markdown",
   "metadata": {},
   "source": [
    "---\n",
    "\n",
    "## How does the loudness score compare between Pop, Hip-Hop/Rap, Dance/Electronic, and Alternative/Indie genres?"
   ]
  },
  {
   "cell_type": "markdown",
   "metadata": {},
   "source": [
    "Retrieving the relevant column for the question and sorting by its mean values in ascending order."
   ]
  },
  {
   "cell_type": "code",
   "execution_count": 42,
   "metadata": {},
   "outputs": [
    {
     "data": {
      "text/html": [
       "<div>\n",
       "<style scoped>\n",
       "    .dataframe tbody tr th:only-of-type {\n",
       "        vertical-align: middle;\n",
       "    }\n",
       "\n",
       "    .dataframe tbody tr th {\n",
       "        vertical-align: top;\n",
       "    }\n",
       "\n",
       "    .dataframe thead th {\n",
       "        text-align: right;\n",
       "    }\n",
       "</style>\n",
       "<table border=\"1\" class=\"dataframe\">\n",
       "  <thead>\n",
       "    <tr style=\"text-align: right;\">\n",
       "      <th></th>\n",
       "      <th>mean</th>\n",
       "      <th>min</th>\n",
       "      <th>median</th>\n",
       "      <th>max</th>\n",
       "      <th>std</th>\n",
       "    </tr>\n",
       "    <tr>\n",
       "      <th>genre</th>\n",
       "      <th></th>\n",
       "      <th></th>\n",
       "      <th></th>\n",
       "      <th></th>\n",
       "      <th></th>\n",
       "    </tr>\n",
       "  </thead>\n",
       "  <tbody>\n",
       "    <tr>\n",
       "      <th>Hip-Hop/Rap</th>\n",
       "      <td>-6.917846</td>\n",
       "      <td>-8.820</td>\n",
       "      <td>-7.6480</td>\n",
       "      <td>-3.370</td>\n",
       "      <td>1.891808</td>\n",
       "    </tr>\n",
       "    <tr>\n",
       "      <th>Pop</th>\n",
       "      <td>-6.460357</td>\n",
       "      <td>-14.454</td>\n",
       "      <td>-6.6445</td>\n",
       "      <td>-3.280</td>\n",
       "      <td>3.014281</td>\n",
       "    </tr>\n",
       "    <tr>\n",
       "      <th>Alternative/Indie</th>\n",
       "      <td>-5.421000</td>\n",
       "      <td>-6.401</td>\n",
       "      <td>-5.2685</td>\n",
       "      <td>-4.746</td>\n",
       "      <td>0.774502</td>\n",
       "    </tr>\n",
       "    <tr>\n",
       "      <th>Dance/Electronic</th>\n",
       "      <td>-5.338000</td>\n",
       "      <td>-7.567</td>\n",
       "      <td>-5.4570</td>\n",
       "      <td>-3.756</td>\n",
       "      <td>1.479047</td>\n",
       "    </tr>\n",
       "  </tbody>\n",
       "</table>\n",
       "</div>"
      ],
      "text/plain": [
       "                       mean     min  median    max       std\n",
       "genre                                                       \n",
       "Hip-Hop/Rap       -6.917846  -8.820 -7.6480 -3.370  1.891808\n",
       "Pop               -6.460357 -14.454 -6.6445 -3.280  3.014281\n",
       "Alternative/Indie -5.421000  -6.401 -5.2685 -4.746  0.774502\n",
       "Dance/Electronic  -5.338000  -7.567 -5.4570 -3.756  1.479047"
      ]
     },
     "execution_count": 42,
     "metadata": {},
     "output_type": "execute_result"
    }
   ],
   "source": [
    "filter_comparison(comparison, \"loudness\", \"mean\")\n"
   ]
  },
  {
   "cell_type": "markdown",
   "metadata": {},
   "source": [
    "---\n",
    "\n",
    "## How does the acousticness score compare between Pop, Hip-Hop/Rap, Dance/Electronic, and Alternative/Indie genres?"
   ]
  },
  {
   "cell_type": "markdown",
   "metadata": {},
   "source": [
    "Retrieving the relevant column for the question and sorting by its mean values in ascending order."
   ]
  },
  {
   "cell_type": "code",
   "execution_count": 43,
   "metadata": {},
   "outputs": [
    {
     "data": {
      "text/html": [
       "<div>\n",
       "<style scoped>\n",
       "    .dataframe tbody tr th:only-of-type {\n",
       "        vertical-align: middle;\n",
       "    }\n",
       "\n",
       "    .dataframe tbody tr th {\n",
       "        vertical-align: top;\n",
       "    }\n",
       "\n",
       "    .dataframe thead th {\n",
       "        text-align: right;\n",
       "    }\n",
       "</style>\n",
       "<table border=\"1\" class=\"dataframe\">\n",
       "  <thead>\n",
       "    <tr style=\"text-align: right;\">\n",
       "      <th></th>\n",
       "      <th>mean</th>\n",
       "      <th>min</th>\n",
       "      <th>median</th>\n",
       "      <th>max</th>\n",
       "      <th>std</th>\n",
       "    </tr>\n",
       "    <tr>\n",
       "      <th>genre</th>\n",
       "      <th></th>\n",
       "      <th></th>\n",
       "      <th></th>\n",
       "      <th></th>\n",
       "      <th></th>\n",
       "    </tr>\n",
       "  </thead>\n",
       "  <tbody>\n",
       "    <tr>\n",
       "      <th>Dance/Electronic</th>\n",
       "      <td>0.099440</td>\n",
       "      <td>0.01370</td>\n",
       "      <td>0.0686</td>\n",
       "      <td>0.223</td>\n",
       "      <td>0.095828</td>\n",
       "    </tr>\n",
       "    <tr>\n",
       "      <th>Hip-Hop/Rap</th>\n",
       "      <td>0.188741</td>\n",
       "      <td>0.00513</td>\n",
       "      <td>0.1450</td>\n",
       "      <td>0.731</td>\n",
       "      <td>0.186396</td>\n",
       "    </tr>\n",
       "    <tr>\n",
       "      <th>Pop</th>\n",
       "      <td>0.323843</td>\n",
       "      <td>0.02100</td>\n",
       "      <td>0.2590</td>\n",
       "      <td>0.902</td>\n",
       "      <td>0.318142</td>\n",
       "    </tr>\n",
       "    <tr>\n",
       "      <th>Alternative/Indie</th>\n",
       "      <td>0.583500</td>\n",
       "      <td>0.29100</td>\n",
       "      <td>0.6460</td>\n",
       "      <td>0.751</td>\n",
       "      <td>0.204086</td>\n",
       "    </tr>\n",
       "  </tbody>\n",
       "</table>\n",
       "</div>"
      ],
      "text/plain": [
       "                       mean      min  median    max       std\n",
       "genre                                                        \n",
       "Dance/Electronic   0.099440  0.01370  0.0686  0.223  0.095828\n",
       "Hip-Hop/Rap        0.188741  0.00513  0.1450  0.731  0.186396\n",
       "Pop                0.323843  0.02100  0.2590  0.902  0.318142\n",
       "Alternative/Indie  0.583500  0.29100  0.6460  0.751  0.204086"
      ]
     },
     "execution_count": 43,
     "metadata": {},
     "output_type": "execute_result"
    }
   ],
   "source": [
    "filter_comparison(comparison, \"acousticness\", \"mean\")\n"
   ]
  },
  {
   "cell_type": "markdown",
   "metadata": {},
   "source": [
    "These comparisons can be used to suggest new genres to users based on these features.\n",
    "\n",
    "If someone has a tendency to listen to music with a low loudness value, based on the data we could suggest other genres that they haven't listened to that also have a low loudness value. \n",
    "\n",
    "Best case would be considering multiple factors of the genres and make suggestions where the values of the most features are similar. "
   ]
  },
  {
   "cell_type": "markdown",
   "metadata": {},
   "source": [
    "---\n",
    "\n",
    "## Checking if the original dataset remained intact."
   ]
  },
  {
   "cell_type": "code",
   "execution_count": 44,
   "metadata": {},
   "outputs": [
    {
     "data": {
      "text/plain": [
       "np.True_"
      ]
     },
     "execution_count": 44,
     "metadata": {},
     "output_type": "execute_result"
    }
   ],
   "source": [
    "(data == safety_copy).all(axis=None)"
   ]
  },
  {
   "cell_type": "markdown",
   "metadata": {},
   "source": [
    "The analysed dataset is the same as the safety copy, there weren't any accidental changes."
   ]
  },
  {
   "cell_type": "markdown",
   "metadata": {},
   "source": [
    "---\n",
    "\n",
    "I would improve my code by specifying the requirements better to know what type of method to use to determine the outliers, and also what to do with them. \n",
    "\n",
    "I would also check if my methods and functions are applicable in a bigger, or just another dataset of the same shape, also if my solution is scalable and modular.\n",
    "\n",
    "I would also check if my solution is fast enough, or is there a solution that is more efficient."
   ]
  }
 ],
 "metadata": {
  "kernelspec": {
   "display_name": "Python 3 (ipykernel)",
   "language": "python",
   "name": "python3"
  },
  "language_info": {
   "codemirror_mode": {
    "name": "ipython",
    "version": 3
   },
   "file_extension": ".py",
   "mimetype": "text/x-python",
   "name": "python",
   "nbconvert_exporter": "python",
   "pygments_lexer": "ipython3",
   "version": "3.12.4"
  }
 },
 "nbformat": 4,
 "nbformat_minor": 4
}
